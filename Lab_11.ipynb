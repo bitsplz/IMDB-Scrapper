{
 "cells": [
  {
   "cell_type": "markdown",
   "metadata": {},
   "source": [
    "from selenium import webdriver\n",
    "from bs4 import BeautifulSoup\n",
    "import pandas as pd\n",
    "import re\n",
    "import time"
   ]
  },
  {
   "cell_type": "markdown",
   "metadata": {},
   "source": [
    "movie_name=[]\n",
    "movie_director=[]\n",
    "movie_stars=[]\n",
    "rating=[]\n",
    "movie_tagline=[]\n",
    "movie_budget=[]\n",
    "movie_budget_gross=[]\n",
    "movie_rank=[]\n",
    "movie_genre=[]\n",
    "movie_genre_id=[]\n",
    "i=0\n",
    "movie_director_id=[]\n",
    "movie_stars_id=[]\n",
    "movieId=2019\n",
    "content_nx=[]\n",
    "year=[]\n",
    "\n",
    "driver = webdriver.Chrome('B:/chromedriver_win32/chromedriver')\n",
    "file = open('C:/Users/mujta/Downloads/MID 2/MID 2/urls.txt', 'r')\n",
    "Lines = file.readlines() "
   ]
  },
  {
   "cell_type": "markdown",
   "metadata": {},
   "source": [
    "for line in Lines:\n",
    "    driver.get(line)\n",
    "    content = driver.page_source\n",
    "    soup = BeautifulSoup(content)\n",
    "    time.sleep(10)\n",
    "    rank=1\n",
    "    for summary in soup.findAll('h3', attrs={'class':'lister-item-header'}):\n",
    "        if(rank==51):\n",
    "            break\n",
    "        driver.get('https://www.imdb.com'+summary.a['href'])\n",
    "        content_nx .append(driver.page_source)\n",
    "        data = BeautifulSoup(content_nx[i])\n",
    "        time.sleep(10)\n",
    "        movie=data.find('div', attrs={'class':'title_wrapper'})\n",
    "        movie_name.append(movie.h1.text)\n",
    "        movie_rank.append(rank)\n",
    "        year.append(movieId)\n",
    "        rank=rank+1\n",
    "        r=data.find('div', attrs={'class':'ratingValue'})\n",
    "        rating.append(r.span.text)\n",
    "        chk=0\n",
    "        for item in data.findAll('div', attrs={'class':'credit_summary_item'}):\n",
    "            if(item.h4==None):\n",
    "                break\n",
    "            if(item.h4.text=='Directors:' or item.h4.text=='Director:'  ):\n",
    "                for val in item.findAll('a'):\n",
    "                    movie_director_id.append(movie.h1.text)\n",
    "                    movie_director.append(val.text)\n",
    "                    chk=chk+1\n",
    "                break\n",
    "        if(chk==0):\n",
    "            movie_director_id.append(movie.h1.text)\n",
    "            movie_director.append('N/A')\n",
    "        chk=0\n",
    "        for item in data.findAll('div', attrs={'class':'credit_summary_item'}):\n",
    "            if(item.h4==None):\n",
    "                break\n",
    "            if(item.h4.text=='Stars:' or item.h4.text=='Star:'  ):\n",
    "                for val in item.findAll('a'):\n",
    "                    if(val.text=='See full cast & crew'):\n",
    "                        break;\n",
    "                    movie_stars_id.append(movie.h1.text)\n",
    "                    movie_stars.append(val.text)\n",
    "                    chk=chk+1\n",
    "                break\n",
    "        if(chk==0):\n",
    "            movie_stars_id.append(movie.h1.text)\n",
    "            movie_stars.append('N/A')\n",
    "        chk=0\n",
    "        for item in data.findAll('div', attrs={'class':'txt-block'}):\n",
    "            if(item.h4==None):\n",
    "                break;\n",
    "            if(item.h4.text=='Tagline:' or item.h4.text=='Taglines:'  ):\n",
    "                s = item.text.strip()\n",
    "                result = re.search('Taglines:\\n(.*)', s)\n",
    "                movie_tagline.append(result.group(1))\n",
    "                chk=chk+1;\n",
    "                break;\n",
    "        if(chk==0):\n",
    "            movie_tagline.append('N/A')\n",
    "        chk=0\n",
    "        for item in data.findAll('div', attrs={'class':'txt-block'}):\n",
    "            if(item.h4==None):\n",
    "                break\n",
    "            if(item.h4.text=='Budget:'):\n",
    "                s = item.text.strip()\n",
    "                result = re.search('Budget:(.*)', s)\n",
    "                ss=result.group(1)\n",
    "                ss = re.sub('[!@#$.,]', '',ss)\n",
    "                movie_budget.append(ss)\n",
    "                chk=chk+1\n",
    "                break;\n",
    "        if(chk==0):\n",
    "            movie_budget.append('N/A')\n",
    "        chk=0\n",
    "        for item in data.findAll('div', attrs={'class':'txt-block'}):\n",
    "            if(item.h4==None):\n",
    "                break\n",
    "            if(item.h4.text=='Cumulative Worldwide Gross:'):\n",
    "                s = item.text.strip()\n",
    "                result = re.search('Cumulative Worldwide Gross:(.*)', s)\n",
    "                ss=result.group(1)\n",
    "                ss = re.sub('[!@#$.,]', '',ss)\n",
    "                movie_budget_gross.append(ss)\n",
    "                chk=chk+1\n",
    "                break;\n",
    "        if(chk==0):\n",
    "            movie_budget_gross.append('N/A')\n",
    "        chk=0\n",
    "        for item in data.findAll('div', attrs={'class':'see-more inline canwrap'}):\n",
    "                if(item.h4==None):\n",
    "                    break\n",
    "                if(item.h4.text=='Genres:' or item.h4.text=='Genre:'):\n",
    "                    for val in item.findAll('a'):\n",
    "                        movie_genre_id.append(movie.h1.text)\n",
    "                        movie_genre.append(val.text)\n",
    "                        chk=chk+1\n",
    "                    break;\n",
    "        if(chk==0):\n",
    "            movie_genre_id.append(movie.h1.text)\n",
    "            movie_genre.append('N/A')\n",
    "\n",
    "        i=i+1\n",
    "    movieId=movieId-1\n",
    "\n"
   ]
  },
  {
   "cell_type": "markdown",
   "metadata": {
    "scrolled": true
   },
   "source": [
    "    \n",
    "df = pd.DataFrame({'Movie Name':movie_name,'Rank':movie_rank,'Year':year,'Rating':rating,'Tagline':movie_tagline,'Movie Budget':movie_budget,'Gross Budget':movie_budget_gross}) \n",
    "df.to_csv('B:/movie.csv', index=False, encoding='utf-8')\n",
    "df = pd.DataFrame({'Movie Name':movie_director_id,'Director':movie_director}) \n",
    "df.to_csv('B:/movie_directors.csv', index=False, encoding='utf-8')   \n",
    "df = pd.DataFrame({'Movie Name':movie_stars_id,'Movie Stars':movie_stars}) \n",
    "df.to_csv('B:/movie_stars.csv', index=False, encoding='utf-8')   \n",
    "df = pd.DataFrame({'Movie Name':movie_genre_id,'Movie Stars':movie_genre}) \n",
    "df.to_csv('B:/movie_genre.csv', index=False, encoding='utf-8')  "
   ]
  },
  {
   "cell_type": "code",
   "execution_count": 23,
   "metadata": {},
   "outputs": [
    {
     "name": "stdout",
     "output_type": "stream",
     "text": [
      "249\n",
      "794\n"
     ]
    }
   ],
   "source": [
    "print(len(movie_budget_gross))\n",
    "print(len(movie_genre))"
   ]
  },
  {
   "cell_type": "code",
   "execution_count": null,
   "metadata": {},
   "outputs": [],
   "source": []
  },
  {
   "cell_type": "code",
   "execution_count": null,
   "metadata": {},
   "outputs": [],
   "source": []
  }
 ],
 "metadata": {
  "kernelspec": {
   "display_name": "Python 3",
   "language": "python",
   "name": "python3"
  },
  "language_info": {
   "codemirror_mode": {
    "name": "ipython",
    "version": 3
   },
   "file_extension": ".py",
   "mimetype": "text/x-python",
   "name": "python",
   "nbconvert_exporter": "python",
   "pygments_lexer": "ipython3",
   "version": "3.7.6"
  }
 },
 "nbformat": 4,
 "nbformat_minor": 2
}
